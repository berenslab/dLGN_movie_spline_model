{
 "cells": [
  {
   "cell_type": "markdown",
   "metadata": {},
   "source": [
    "# Figure 5: Two-alternative forced-choice decoder demonstrates enhanced stimulus discrimination in the absence of feedback"
   ]
  },
  {
   "cell_type": "code",
   "execution_count": 1,
   "metadata": {},
   "outputs": [],
   "source": [
    "import matplotlib.pyplot as plt\n",
    "from mpl_toolkits.axes_grid1.inset_locator import inset_axes\n",
    "import numpy as np\n",
    "import pandas as pd\n",
    "import scipy\n",
    "import seaborn as sns\n",
    "from sklearn.preprocessing import StandardScaler\n",
    "from sklearn.decomposition import PCA\n",
    "from statannotations.Annotator import Annotator\n",
    "import warnings\n",
    "warnings.filterwarnings(\"ignore\")\n",
    "%matplotlib inline"
   ]
  },
  {
   "cell_type": "code",
   "execution_count": 2,
   "metadata": {},
   "outputs": [],
   "source": [
    "def get_color_dict(palette_name='colorblind', n=None, color_names=None,\n",
    "                   add_default_colors=True):\n",
    "    \"\"\"\n",
    "    Returns color map dictionary from seaborn color palettes with hexadecimal triplet values.\n",
    "\n",
    "    Parameters\n",
    "    ----------\n",
    "    palette_name : str\n",
    "        Name of palette. Possible values are:\n",
    "        'colorblind', 'deep', 'muted', 'bright', 'pastel', 'dark'\n",
    "        For more options see seaborn.color_palette() docs.\n",
    "    n : int\n",
    "        Number of colors.\n",
    "        If not None and arg color_names is given, arg n must be equal to len(color_names).\n",
    "    color_names : list\n",
    "        List of color names as strings e.g. for the color palette 'colorblind': ['blue',\n",
    "        'orange', 'green', 'red', 'purple', 'brown', 'pink', 'gray', 'yellow', 'lightblue']\n",
    "        Must have the same length as colors in the color palette.\n",
    "        If None, color names are set to ['c0', 'c1', 'c2', ...].\n",
    "    add_default_colors : bool\n",
    "        Add default colors that are need but that are not part of the color palette such as\n",
    "        e.g. 'black'.\n",
    "        If set to False, the color dict will only contain colors of the chosen palette.\n",
    "\n",
    "    Returns\n",
    "    -------\n",
    "    color_dict: dict\n",
    "         Color name as key and color triplet as value.\n",
    "    \"\"\"\n",
    "    # Import done here to avoid problems for other user who don't have seaborn installed\n",
    "    import seaborn as sns\n",
    "\n",
    "    # Get list of sns colors as hexadecimal triplet\n",
    "    sns_colors_l = sns.color_palette(palette_name).as_hex()\n",
    "    if n is not None:\n",
    "        sns_colors_l = sns_colors_l[:n]\n",
    "    # Define color names if none are given\n",
    "    if color_names is None:\n",
    "        color_names = [\"c%d\" % i for i in range(0, len(sns_colors_l))]\n",
    "    # Create color dict\n",
    "    color_dict = dict.fromkeys(color_names)\n",
    "    for color_name, color in zip(color_names, sns_colors_l):\n",
    "        color_dict[color_name] = color\n",
    "    # Add additional colors to palette\n",
    "    if add_default_colors is True:\n",
    "        color_dict['black'] = '#000000'\n",
    "\n",
    "    return color_dict"
   ]
  },
  {
   "cell_type": "code",
   "execution_count": 3,
   "metadata": {},
   "outputs": [],
   "source": [
    "color_dict = get_color_dict(color_names=['blue', 'orange', 'green', 'red', 'purple', 'brown', 'pink', 'gray', 'yellow', 'lightblue'])"
   ]
  },
  {
   "cell_type": "markdown",
   "metadata": {
    "tags": []
   },
   "source": [
    "# Load data"
   ]
  },
  {
   "cell_type": "code",
   "execution_count": 4,
   "metadata": {},
   "outputs": [],
   "source": [
    "# CT FB\n",
    "filename = './data/decoder_opto_data_seed42.h5'\n",
    "data_opto = pd.read_hdf(filename, \"df\")"
   ]
  },
  {
   "cell_type": "code",
   "execution_count": 5,
   "metadata": {},
   "outputs": [
    {
     "data": {
      "text/plain": [
       "Index(['m', 's', 'e', 'u', 'best_model', 'omi', 'rmi', 'emi', 'yhat_opto',\n",
       "       'yhat_ctrl', 'D_opto', 'D_ctrl', 'perc_corr_opto', 'perc_corr_ctrl',\n",
       "       'ratio'],\n",
       "      dtype='object')"
      ]
     },
     "execution_count": 5,
     "metadata": {},
     "output_type": "execute_result"
    }
   ],
   "source": [
    "data_opto.columns"
   ]
  },
  {
   "cell_type": "code",
   "execution_count": 6,
   "metadata": {},
   "outputs": [],
   "source": [
    "filename = './data/performance_data.h5'\n",
    "df_performance =  pd.read_hdf(filename, \"df\")"
   ]
  },
  {
   "cell_type": "code",
   "execution_count": 7,
   "metadata": {},
   "outputs": [
    {
     "data": {
      "text/plain": [
       "Index(['config_name', 'config_color', 'config_opto', 'config_run',\n",
       "       'config_eye', 'm', 's', 'e', 'u', 'paramset', 'omi_e', 'omi',\n",
       "       'omi_spont', 'rmi', 'emi', 'r_train', 'r_test', 'r_mean_train',\n",
       "       'r_mean_test', 'perm_score_true', 'perm_score_stim', 'perm_score_opto',\n",
       "       'perm_score_run', 'perm_score_eye', 'perm_score_true_mean',\n",
       "       'perm_score_stim_mean', 'perm_score_opto_mean', 'perm_score_run_mean',\n",
       "       'perm_score_eye_mean', 'perm_pvalue_stim', 'perm_pvalue_opto',\n",
       "       'perm_pvalue_run', 'perm_pvalue_eye'],\n",
       "      dtype='object')"
      ]
     },
     "execution_count": 7,
     "metadata": {},
     "output_type": "execute_result"
    }
   ],
   "source": [
    "df_performance.columns"
   ]
  },
  {
   "cell_type": "markdown",
   "metadata": {},
   "source": [
    "# Plots for one example unit"
   ]
  },
  {
   "cell_type": "markdown",
   "metadata": {},
   "source": [
    "Plot decision matrices:"
   ]
  },
  {
   "cell_type": "code",
   "execution_count": 8,
   "metadata": {},
   "outputs": [],
   "source": [
    "# Define example key\n",
    "key = {'m':'Ntsr1Cre_2019_0008', 's': 5, 'e':8, 'u':21}\n",
    "key_idx = data_opto[(data_opto['m']==key['m']) & (data_opto['s']==key['s']) & (data_opto['e']==key['e']) & (data_opto['u']==key['u'])].index[0]\n",
    "\n",
    "n_rand_fragments = 20\n",
    "\n",
    "# Get decision matrices\n",
    "D_opto_off = data_opto.iloc[key_idx]['D_ctrl']\n",
    "D_opto_on = data_opto.iloc[key_idx]['D_opto']"
   ]
  },
  {
   "cell_type": "code",
   "execution_count": 9,
   "metadata": {},
   "outputs": [
    {
     "data": {
      "image/png": "[encoded data removed]",
      "text/plain": [
       "<Figure size 420x340 with 2 Axes>"
      ]
     },
     "metadata": {},
     "output_type": "display_data"
    }
   ],
   "source": [
    "with plt.style.context(\"matplotlib_config.txt\"):\n",
    "    mosaic = \"\"\"\n",
    "    ab\n",
    "    \"\"\"\n",
    "    fig, ax_dict = plt.subplot_mosaic(\n",
    "        mosaic,\n",
    "        figsize=(2.1,1.7),\n",
    "        dpi=200,\n",
    "        constrained_layout=True,\n",
    "        #sharex=True,\n",
    "    )\n",
    "\n",
    "    txt_kwargs = dict(\n",
    "        color=\"black\", fontsize=\"larger\"\n",
    "    )\n",
    "\n",
    "    # Control\n",
    "    ax = ax_dict['a']\n",
    "    ax.imshow(D_opto_off[:n_rand_fragments, :n_rand_fragments], cmap='BrBG', vmin=-3, vmax=3)\n",
    "    ax.set_xticks(np.arange(0, n_rand_fragments, 4))\n",
    "    ax.set_yticks(np.arange(0, n_rand_fragments, 4))\n",
    "    ax.set_ylabel('Response fragment')\n",
    "    ax.set_xlabel('Stimulus fragment')\n",
    "    ax.set_title('Control', y=1.2)\n",
    "\n",
    "    # Opto\n",
    "    ax = ax_dict['b']\n",
    "    # color\n",
    "    for spine_loc in ['left', 'right', 'top', 'bottom']:\n",
    "        ax.spines[spine_loc].set_visible(True)\n",
    "        ax.spines[spine_loc].set_linewidth(1.5)\n",
    "        ax.spines[spine_loc].set_color(color_dict['blue'])\n",
    "    # Plotting\n",
    "    ax.imshow(D_opto_on[:n_rand_fragments, :n_rand_fragments], cmap='BrBG', vmin=-3, vmax=3)\n",
    "    ax.set_xticks(np.arange(0, n_rand_fragments, 4))\n",
    "    ax.set_yticks(np.arange(0, n_rand_fragments, 4))\n",
    "    ax.set_yticklabels([])\n",
    "    ax.set_ylabel('')\n",
    "    ax.set_xlabel('Stimulus fragment')\n",
    "    ax.set_title('FB suppressed', color=color_dict['blue'], y=1.2)\n",
    "\n",
    "# Save plot\n",
    "filename_plot = './plots/Fig5/{:s}_s{:02d}_e{:02d}_u{:02d}_decision_matrix'.format(key['m'], key['s'], key['e'], key['u'])\n",
    "fig.patch.set_facecolor('white')\n",
    "fig.savefig(filename_plot+'.svg', facecolor=fig.get_facecolor(), transparent=False)"
   ]
  },
  {
   "cell_type": "markdown",
   "metadata": {},
   "source": [
    "Plot barplot:"
   ]
  },
  {
   "cell_type": "code",
   "execution_count": 11,
   "metadata": {},
   "outputs": [],
   "source": [
    "# Define example key\n",
    "key = {'m':'Ntsr1Cre_2019_0008', 's': 5, 'e':8, 'u':21}\n",
    "key_idx = data_opto[(data_opto['m']==key['m']) & (data_opto['s']==key['s']) & (data_opto['e']==key['e']) & (data_opto['u']==key['u'])].index[0]\n",
    "\n",
    "# Get decision matrices\n",
    "n_rand_fragments = 20\n",
    "D_opto_off = data_opto.iloc[key_idx]['D_ctrl']\n",
    "D_opto_on = data_opto.iloc[key_idx]['D_opto']\n",
    "percentages_corr_off = (np.sum(D_opto_off==1, axis=0)/D_opto_off.shape[0])*100\n",
    "percentages_corr_on = (np.sum(D_opto_on==1, axis=0)/D_opto_on.shape[0])*100\n",
    "\n",
    "# Build DataFrame for plotting\n",
    "df_perc_corr = pd.DataFrame(dict(condition=['ctrl']*percentages_corr_off.shape[0]+['opto']*percentages_corr_on.shape[0],\n",
    "                                percentage_corr=list(np.concatenate([percentages_corr_off, percentages_corr_on]))))"
   ]
  },
  {
   "cell_type": "code",
   "execution_count": 12,
   "metadata": {},
   "outputs": [
    {
     "name": "stderr",
     "output_type": "stream",
     "text": [
      "findfont: Font family ['sans-serif'] not found. Falling back to DejaVu Sans.\n"
     ]
    },
    {
     "name": "stdout",
     "output_type": "stream",
     "text": [
      "p-value annotation legend:\n",
      "      ns: p <= 1.00e+00\n",
      "       *: 1.00e-02 < p <= 5.00e-02\n",
      "      **: 1.00e-03 < p <= 1.00e-02\n",
      "     ***: 1.00e-04 < p <= 1.00e-03\n",
      "    ****: p <= 1.00e-04\n",
      "\n",
      "ctrl vs. opto: Mann-Whitney-Wilcoxon test two-sided, P_val:1.204e-12 U_stat=2.094e+03\n"
     ]
    },
    {
     "data": {
      "image/png": "[encoded data removed]",
      "text/plain": [
       "<Figure size 140x240 with 2 Axes>"
      ]
     },
     "metadata": {},
     "output_type": "display_data"
    }
   ],
   "source": [
    "with plt.style.context(\"matplotlib_config.txt\"):\n",
    "    mosaic = \"\"\"\n",
    "    a\n",
    "    b\n",
    "    \"\"\"\n",
    "    fig, ax_dict = plt.subplot_mosaic(\n",
    "        mosaic,\n",
    "        figsize=(.7,1.2),\n",
    "        dpi=200,\n",
    "        constrained_layout=True,\n",
    "        #sharex=True,\n",
    "    )\n",
    "\n",
    "    txt_kwargs = dict(\n",
    "        color=\"black\", fontsize=\"larger\"\n",
    "    )\n",
    "    \n",
    "    ax1 = ax_dict['a']\n",
    "    # top part of the plot\n",
    "    sns.barplot(data=df_perc_corr, x='condition', y='percentage_corr', ax=ax1, errwidth=.8, palette=['gray', 'tab:blue'])\n",
    "    ax1.set_xlim([-1,2])\n",
    "    ax1.set_xticks([])\n",
    "    ax1.set_xticklabels([])\n",
    "    ax1.set_xlabel('')\n",
    "    ax1.spines['bottom'].set_visible(False)\n",
    "    ax1.set_ylabel('Percentange correct', y=-.2)\n",
    "    ax1.set_ylim([40, 85])\n",
    "    ax1.set_yticks([50, 80])\n",
    "    ax1.spines['top'].set_visible(False)\n",
    "    ax1.spines['right'].set_visible(False)\n",
    "    ax1.tick_params(axis='both', which='major')\n",
    "\n",
    "    # bottom part of the plot\n",
    "    ax2 = ax_dict['b']\n",
    "    sns.barplot(data=df_perc_corr, x='condition', y='percentage_corr', ax=ax2, palette=['gray', 'tab:blue'])\n",
    "    ax2.set_xlim([-1, 2])\n",
    "    ax2.set_xlabel('')\n",
    "    ax2.set_ylim([0, 45])\n",
    "    ax2.set_yticks([0, 30])\n",
    "    ax2.set_ylabel('')\n",
    "    ax2.spines['bottom'].set_visible(False)\n",
    "    ax2.spines['top'].set_visible(False)\n",
    "    ax2.spines['right'].set_visible(False)\n",
    "    ax2.tick_params(axis='x', colors='white')\n",
    "    ax2.set_xticklabels(['Ctrl.  ', '  Supp.'], color='k')\n",
    "    ax2.set_xlabel('Feedback', labelpad=6)\n",
    "    ax2.tick_params(axis='both', which='major')\n",
    "\n",
    "    # Annotate significance\n",
    "    annotator = Annotator(ax1, data=df_perc_corr, pairs=[('ctrl', 'opto')], x=\"condition\", y='percentage_corr', order=None)\n",
    "    annotator.configure(test='Mann-Whitney', text_format='star', loc='outside', fontsize=6, line_width=.5)\n",
    "    annotator.apply_and_annotate()\n",
    "    \n",
    "    plt.subplots_adjust(wspace=0, hspace=.1)\n",
    "    # break y-axis\n",
    "    d = .01  # how big to make the diagonal lines in axes coordinates\n",
    "    kwargs = dict(transform=ax1.transAxes, color='k', clip_on=False, lw=.5)\n",
    "    ax1.plot((-d, +d), (-d, +d), **kwargs) # top-left diagonal\n",
    "    kwargs.update(transform=ax2.transAxes) # switch to the bottom axes\n",
    "    ax2.plot((-d, +d), (1 - d, 1 + d), **kwargs) # bottom-left diagonal\n",
    "\n",
    "\n",
    "\n",
    "# Save plot\n",
    "#filename_plot = './plots/Fig5/{:s}_s{:02d}_e{:02d}_u{:02d}_percentage_correct'.format(key['m'], key['s'], key['e'], key['u'])\n",
    "#fig.patch.set_facecolor('white')\n",
    "#fig.savefig(filename_plot+'.svg', bbox_inches='tight', facecolor=fig.get_facecolor(), transparent=False)"
   ]
  },
  {
   "cell_type": "code",
   "execution_count": 16,
   "metadata": {},
   "outputs": [
    {
     "name": "stdout",
     "output_type": "stream",
     "text": [
      "p-value annotation legend:\n",
      "      ns: p <= 1.00e+00\n",
      "       *: 1.00e-02 < p <= 5.00e-02\n",
      "      **: 1.00e-03 < p <= 1.00e-02\n",
      "     ***: 1.00e-04 < p <= 1.00e-03\n",
      "    ****: p <= 1.00e-04\n",
      "\n",
      "ctrl vs. opto: Mann-Whitney-Wilcoxon test two-sided, P_val:1.204e-12 U_stat=2.094e+03\n"
     ]
    },
    {
     "data": {
      "image/png": "[encoded data removed]",
      "text/plain": [
       "<Figure size 140x240 with 1 Axes>"
      ]
     },
     "metadata": {},
     "output_type": "display_data"
    }
   ],
   "source": [
    "with plt.style.context(\"matplotlib_config.txt\"):\n",
    "    mosaic = \"\"\"\n",
    "    a\n",
    "    \"\"\"\n",
    "    fig, ax_dict = plt.subplot_mosaic(\n",
    "        mosaic,\n",
    "        figsize=(.7,1.2),\n",
    "        dpi=200,\n",
    "        constrained_layout=True,\n",
    "        #sharex=True,\n",
    "    )\n",
    "\n",
    "    txt_kwargs = dict(\n",
    "        color=\"black\", fontsize=\"larger\"\n",
    "    )\n",
    "    \n",
    "    ax1 = ax_dict['a']\n",
    "    # top part of the plot\n",
    "    sns.barplot(data=df_perc_corr, x='condition', y='percentage_corr', ax=ax1, errwidth=.8, palette=['gray', 'tab:blue'])\n",
    "    \n",
    "    ax1.set_xlim([-1, 2])\n",
    "    ax1.set_xlabel('')\n",
    "    ax1.set_ylim([50, 80])\n",
    "    ax1.set_yticks([50, 60, 70, 80])\n",
    "    ax1.set_ylabel('')\n",
    "    ax1.spines['bottom'].set_visible(False)\n",
    "    ax1.spines['top'].set_visible(False)\n",
    "    ax1.spines['right'].set_visible(False)\n",
    "    ax1.tick_params(axis='x', colors='white')\n",
    "    ax1.set_xticklabels(['Ctrl.  ', '  Supp.'], color='k')\n",
    "    ax1.set_xlabel('Feedback', labelpad=6)\n",
    "    ax1.tick_params(axis='both', which='major')\n",
    "    ax1.set_ylabel('Percentange correct')\n",
    "    \n",
    "    # Annotate significance\n",
    "    annotator = Annotator(ax1, data=df_perc_corr, pairs=[('ctrl', 'opto')], x=\"condition\", y='percentage_corr', order=None)\n",
    "    annotator.configure(test='Mann-Whitney', text_format='star', loc='outside', fontsize=6, line_width=.5)\n",
    "    annotator.apply_and_annotate()\n",
    "    \n",
    "    plt.subplots_adjust(wspace=0, hspace=.1)\n",
    "\n",
    "# Save plot\n",
    "filename_plot = './plots/Fig5/{:s}_s{:02d}_e{:02d}_u{:02d}_percentage_correct'.format(key['m'], key['s'], key['e'], key['u'])\n",
    "fig.patch.set_facecolor('white')\n",
    "fig.savefig(filename_plot+'.svg', bbox_inches='tight', facecolor=fig.get_facecolor(), transparent=False)"
   ]
  },
  {
   "cell_type": "code",
   "execution_count": 15,
   "metadata": {},
   "outputs": [
    {
     "data": {
      "text/plain": [
       "condition\n",
       "ctrl    60.27\n",
       "opto    68.34\n",
       "Name: percentage_corr, dtype: float64"
      ]
     },
     "execution_count": 15,
     "metadata": {},
     "output_type": "execute_result"
    }
   ],
   "source": [
    "df_perc_corr.groupby(['condition'])['percentage_corr'].mean()"
   ]
  },
  {
   "cell_type": "markdown",
   "metadata": {},
   "source": [
    "# Population analysis"
   ]
  },
  {
   "cell_type": "code",
   "execution_count": 13,
   "metadata": {},
   "outputs": [],
   "source": [
    "# Opto\n",
    "perc_corr_ctrl = data_opto['perc_corr_ctrl'].values\n",
    "perc_corr_opto = data_opto['perc_corr_opto'].values\n",
    "#ratios_opto = data_opto['ratio'].values#perc_corr_opto/perc_corr_ctrl\n",
    "ratios_opto = perc_corr_opto/perc_corr_ctrl\n",
    "\n",
    "# MIs\n",
    "omis = df_performance[df_performance['config_name']=='Full model']['omi'].values\n",
    "rmis = df_performance[df_performance['config_name']=='Full model']['rmi'].values\n",
    "emis = df_performance[df_performance['config_name']=='Full model']['emi'].values\n",
    "\n",
    "#ylim = [.95, 1.2]\n",
    "ylim = [np.min(ratios_opto), np.max(ratios_opto)+.02]"
   ]
  },
  {
   "cell_type": "code",
   "execution_count": 14,
   "metadata": {},
   "outputs": [],
   "source": [
    "xticks = [.001, .1,1]\n",
    "yticks = [1, 1.1, 1.2]"
   ]
  },
  {
   "cell_type": "markdown",
   "metadata": {},
   "source": [
    "### Get significant neurons"
   ]
  },
  {
   "cell_type": "code",
   "execution_count": 15,
   "metadata": {},
   "outputs": [],
   "source": [
    "pval_opto = df_performance[df_performance['config_name']=='Full model']['perm_pvalue_opto'].values \n",
    "signif_opto_idx = np.where([pval_opto<0.001])[1]"
   ]
  },
  {
   "cell_type": "code",
   "execution_count": 16,
   "metadata": {},
   "outputs": [
    {
     "name": "stderr",
     "output_type": "stream",
     "text": [
      "findfont: Font family ['sans-serif'] not found. Falling back to DejaVu Sans.\n"
     ]
    },
    {
     "data": {
      "image/png": "[encoded data removed]",
      "text/plain": [
       "<Figure size 320x240 with 2 Axes>"
      ]
     },
     "metadata": {},
     "output_type": "display_data"
    }
   ],
   "source": [
    "with plt.style.context(\"matplotlib_config.txt\"):\n",
    "    mosaic = \"\"\"\n",
    "    ab\n",
    "    \"\"\"\n",
    "    fig, ax_dict = plt.subplot_mosaic(\n",
    "        mosaic,\n",
    "        figsize=(1.6,1.2),\n",
    "        dpi=200,\n",
    "        constrained_layout=True,\n",
    "        gridspec_kw={\"width_ratios\":[1, .25]},\n",
    "        \n",
    "    )\n",
    "\n",
    "    txt_kwargs = dict(\n",
    "        color=\"black\", fontsize=\"larger\"\n",
    "    )\n",
    "    \n",
    "    # Opto\n",
    "    ax = ax_dict['a']\n",
    "    sns.scatterplot(abs(omis), ratios_opto, edgecolor='none', facecolor='#b3cedeff', alpha=.7, ax=ax, zorder=1)\n",
    "    sns.scatterplot(abs(omis)[signif_opto_idx], ratios_opto[signif_opto_idx], edgecolor='none', facecolor='#4884afff', ax=ax, zorder=2)\n",
    "    ax.axhline(y=1, linestyle='--', color='gray', zorder=0)\n",
    "    ax.set_xscale('log', basex=2)\n",
    "    ax.set_yscale('log', basey=2)\n",
    "    ax.set_xticks(xticks)\n",
    "    ax.set_xticklabels(xticks)\n",
    "    ax.set_yticks(yticks)\n",
    "    ax.set_yticklabels(np.round(np.log2(yticks),1))\n",
    "    #ax.set_ylim(ylim)\n",
    "    ax.set_xlabel('abs. MI$_{FB~supp}$')\n",
    "    ax.set_ylabel('$\\log_2~\\dfrac{\\%~correct_{~Supp.}}{\\%~correct_{~Ctrl.}}$', loc='center')\n",
    "    sns.despine(offset=5, trim=False, ax=ax)\n",
    "    ax.tick_params(axis='both', which='major')\n",
    "    ax.set_title('n = {:d}'.format(omis.shape[0]), y=.8, x=.2)\n",
    "    \n",
    "    ax = ax_dict['b']\n",
    "    sns.histplot(y=ratios_opto, kde=True, edgecolor='none', alpha=.2, ax=ax)\n",
    "    ax.axhline(y=1, linestyle='--', color='gray', zorder=0)\n",
    "    ax.set_yscale('log', basey=2)\n",
    "    ax.set_xlim([-1, ax_dict['b'].get_xlim()[1]])\n",
    "    ax.set_xticks([])\n",
    "    ax.set_xticklabels([])\n",
    "    ax.set_ylim(ax_dict['a'].get_ylim())\n",
    "    ax.set_yticks([])\n",
    "    ax.set_yticklabels([])\n",
    "    ax.set_xlabel('')\n",
    "    sns.despine(offset=5, trim=False, ax=ax, left=True, bottom=True)\n",
    "    \n",
    "    \n",
    "    # Save plot\n",
    "    filename_plot = './plots/Fig5/ratios_perc_correct_opto'\n",
    "    fig.patch.set_facecolor('white')\n",
    "    fig.savefig(filename_plot+'_v2.svg', bbox_inches='tight', facecolor=fig.get_facecolor(), transparent=False)\n",
    "    fig.savefig(filename_plot+'_v2.png', bbox_inches='tight', facecolor=fig.get_facecolor(), transparent=False)"
   ]
  },
  {
   "cell_type": "markdown",
   "metadata": {},
   "source": [
    "# Stats on distribution of ratios"
   ]
  },
  {
   "cell_type": "code",
   "execution_count": 17,
   "metadata": {},
   "outputs": [
    {
     "data": {
      "text/plain": [
       "1.0035055505723345"
      ]
     },
     "execution_count": 17,
     "metadata": {},
     "output_type": "execute_result"
    }
   ],
   "source": [
    "np.mean(ratios_opto)"
   ]
  },
  {
   "cell_type": "code",
   "execution_count": 18,
   "metadata": {},
   "outputs": [
    {
     "data": {
      "text/plain": [
       "0.02081140086828937"
      ]
     },
     "execution_count": 18,
     "metadata": {},
     "output_type": "execute_result"
    }
   ],
   "source": [
    "np.std(ratios_opto)"
   ]
  },
  {
   "cell_type": "code",
   "execution_count": 19,
   "metadata": {},
   "outputs": [
    {
     "data": {
      "text/plain": [
       "0.0004366938640022937"
      ]
     },
     "execution_count": 19,
     "metadata": {},
     "output_type": "execute_result"
    }
   ],
   "source": [
    "np.var(ratios_opto, ddof=1)"
   ]
  },
  {
   "cell_type": "code",
   "execution_count": 20,
   "metadata": {},
   "outputs": [
    {
     "data": {
      "text/plain": [
       "SkewtestResult(statistic=7.511683046041104, pvalue=5.837197878069198e-14)"
      ]
     },
     "execution_count": 20,
     "metadata": {},
     "output_type": "execute_result"
    }
   ],
   "source": [
    "scipy.stats.skewtest(ratios_opto)"
   ]
  },
  {
   "cell_type": "markdown",
   "metadata": {},
   "source": [
    "# Split ratios by modulation"
   ]
  },
  {
   "cell_type": "code",
   "execution_count": 58,
   "metadata": {},
   "outputs": [
    {
     "data": {
      "text/plain": [
       "Index(['config_name', 'config_color', 'config_opto', 'config_run',\n",
       "       'config_eye', 'm', 's', 'e', 'u', 'paramset', 'omi_e', 'omi',\n",
       "       'omi_spont', 'rmi', 'emi', 'r_train', 'r_test', 'r_mean_train',\n",
       "       'r_mean_test', 'perm_score_true', 'perm_score_stim', 'perm_score_opto',\n",
       "       'perm_score_run', 'perm_score_eye', 'perm_score_true_mean',\n",
       "       'perm_score_stim_mean', 'perm_score_opto_mean', 'perm_score_run_mean',\n",
       "       'perm_score_eye_mean', 'perm_pvalue_stim', 'perm_pvalue_opto',\n",
       "       'perm_pvalue_run', 'perm_pvalue_eye'],\n",
       "      dtype='object')"
      ]
     },
     "execution_count": 58,
     "metadata": {},
     "output_type": "execute_result"
    }
   ],
   "source": [
    "df_performance.columns"
   ]
  },
  {
   "cell_type": "code",
   "execution_count": 59,
   "metadata": {},
   "outputs": [],
   "source": [
    "df_mod_split = pd.DataFrame(dict(ratio=ratios_opto,\n",
    "                                 omi=omis,\n",
    "                                 omi_abs=abs(omis),\n",
    "                                 pval=df_performance[df_performance['config_name']=='Full model']['perm_pvalue_opto'].values,\n",
    "                                 perf_perm_opto=df_performance[df_performance['config_name']=='Full model']['perm_score_opto_mean'].values,\n",
    "                                 perf_full_model=df_performance[df_performance['config_name']=='Full model']['r_mean_train'].values,\n",
    "                                )).sort_values(by=['omi_abs']).reset_index()\n",
    "df_mod_split['effect_shuffle'] = df_mod_split['perf_full_model']-df_mod_split['perf_perm_opto']\n",
    "\n",
    "signif05 = []\n",
    "for h in ((df_mod_split['pval'] <= 0.05)).values:\n",
    "    if h==False:\n",
    "        signif05.append('No')\n",
    "    else:\n",
    "        signif05.append('Yes')\n",
    "df_mod_split['signif05'] = signif05\n",
    "df_mod_split['group'] = (['low']*11 + ['mid']*99 + ['high']*12)"
   ]
  },
  {
   "cell_type": "code",
   "execution_count": 60,
   "metadata": {},
   "outputs": [
    {
     "data": {
      "text/html": [
       "<div>\n",
       "<style scoped>\n",
       "    .dataframe tbody tr th:only-of-type {\n",
       "        vertical-align: middle;\n",
       "    }\n",
       "\n",
       "    .dataframe tbody tr th {\n",
       "        vertical-align: top;\n",
       "    }\n",
       "\n",
       "    .dataframe thead th {\n",
       "        text-align: right;\n",
       "    }\n",
       "</style>\n",
       "<table border=\"1\" class=\"dataframe\">\n",
       "  <thead>\n",
       "    <tr style=\"text-align: right;\">\n",
       "      <th></th>\n",
       "      <th>index</th>\n",
       "      <th>ratio</th>\n",
       "      <th>omi</th>\n",
       "      <th>omi_abs</th>\n",
       "      <th>pval</th>\n",
       "      <th>perf_perm_opto</th>\n",
       "      <th>perf_full_model</th>\n",
       "      <th>effect_shuffle</th>\n",
       "      <th>signif05</th>\n",
       "      <th>group</th>\n",
       "    </tr>\n",
       "  </thead>\n",
       "  <tbody>\n",
       "    <tr>\n",
       "      <th>0</th>\n",
       "      <td>90</td>\n",
       "      <td>1.010264</td>\n",
       "      <td>0.000511</td>\n",
       "      <td>0.000511</td>\n",
       "      <td>0.736354</td>\n",
       "      <td>0.318660</td>\n",
       "      <td>0.355094</td>\n",
       "      <td>0.036434</td>\n",
       "      <td>No</td>\n",
       "      <td>low</td>\n",
       "    </tr>\n",
       "    <tr>\n",
       "      <th>1</th>\n",
       "      <td>6</td>\n",
       "      <td>1.017330</td>\n",
       "      <td>-0.001153</td>\n",
       "      <td>0.001153</td>\n",
       "      <td>0.758532</td>\n",
       "      <td>0.107263</td>\n",
       "      <td>0.177524</td>\n",
       "      <td>0.070261</td>\n",
       "      <td>No</td>\n",
       "      <td>low</td>\n",
       "    </tr>\n",
       "    <tr>\n",
       "      <th>2</th>\n",
       "      <td>100</td>\n",
       "      <td>0.990621</td>\n",
       "      <td>-0.002230</td>\n",
       "      <td>0.002230</td>\n",
       "      <td>0.529051</td>\n",
       "      <td>0.119184</td>\n",
       "      <td>0.167708</td>\n",
       "      <td>0.048524</td>\n",
       "      <td>No</td>\n",
       "      <td>low</td>\n",
       "    </tr>\n",
       "    <tr>\n",
       "      <th>3</th>\n",
       "      <td>91</td>\n",
       "      <td>0.990568</td>\n",
       "      <td>0.003123</td>\n",
       "      <td>0.003123</td>\n",
       "      <td>0.736354</td>\n",
       "      <td>0.589867</td>\n",
       "      <td>0.623412</td>\n",
       "      <td>0.033545</td>\n",
       "      <td>No</td>\n",
       "      <td>low</td>\n",
       "    </tr>\n",
       "    <tr>\n",
       "      <th>4</th>\n",
       "      <td>96</td>\n",
       "      <td>1.008002</td>\n",
       "      <td>0.003345</td>\n",
       "      <td>0.003345</td>\n",
       "      <td>0.941653</td>\n",
       "      <td>0.149435</td>\n",
       "      <td>0.176421</td>\n",
       "      <td>0.026986</td>\n",
       "      <td>No</td>\n",
       "      <td>low</td>\n",
       "    </tr>\n",
       "    <tr>\n",
       "      <th>...</th>\n",
       "      <td>...</td>\n",
       "      <td>...</td>\n",
       "      <td>...</td>\n",
       "      <td>...</td>\n",
       "      <td>...</td>\n",
       "      <td>...</td>\n",
       "      <td>...</td>\n",
       "      <td>...</td>\n",
       "      <td>...</td>\n",
       "      <td>...</td>\n",
       "    </tr>\n",
       "    <tr>\n",
       "      <th>117</th>\n",
       "      <td>13</td>\n",
       "      <td>1.034395</td>\n",
       "      <td>-0.226862</td>\n",
       "      <td>0.226862</td>\n",
       "      <td>0.000267</td>\n",
       "      <td>0.100865</td>\n",
       "      <td>0.339889</td>\n",
       "      <td>0.239024</td>\n",
       "      <td>Yes</td>\n",
       "      <td>high</td>\n",
       "    </tr>\n",
       "    <tr>\n",
       "      <th>118</th>\n",
       "      <td>17</td>\n",
       "      <td>0.971720</td>\n",
       "      <td>-0.310236</td>\n",
       "      <td>0.310236</td>\n",
       "      <td>0.736354</td>\n",
       "      <td>0.165218</td>\n",
       "      <td>0.314339</td>\n",
       "      <td>0.149121</td>\n",
       "      <td>No</td>\n",
       "      <td>high</td>\n",
       "    </tr>\n",
       "    <tr>\n",
       "      <th>119</th>\n",
       "      <td>14</td>\n",
       "      <td>1.059592</td>\n",
       "      <td>-0.346327</td>\n",
       "      <td>0.346327</td>\n",
       "      <td>0.017029</td>\n",
       "      <td>0.160047</td>\n",
       "      <td>0.289908</td>\n",
       "      <td>0.129861</td>\n",
       "      <td>Yes</td>\n",
       "      <td>high</td>\n",
       "    </tr>\n",
       "    <tr>\n",
       "      <th>120</th>\n",
       "      <td>20</td>\n",
       "      <td>1.084293</td>\n",
       "      <td>-0.448730</td>\n",
       "      <td>0.448730</td>\n",
       "      <td>0.000267</td>\n",
       "      <td>0.060434</td>\n",
       "      <td>0.374399</td>\n",
       "      <td>0.313965</td>\n",
       "      <td>Yes</td>\n",
       "      <td>high</td>\n",
       "    </tr>\n",
       "    <tr>\n",
       "      <th>121</th>\n",
       "      <td>21</td>\n",
       "      <td>1.133897</td>\n",
       "      <td>-0.663709</td>\n",
       "      <td>0.663709</td>\n",
       "      <td>0.000267</td>\n",
       "      <td>0.029848</td>\n",
       "      <td>0.490220</td>\n",
       "      <td>0.460372</td>\n",
       "      <td>Yes</td>\n",
       "      <td>high</td>\n",
       "    </tr>\n",
       "  </tbody>\n",
       "</table>\n",
       "<p>122 rows × 10 columns</p>\n",
       "</div>"
      ],
      "text/plain": [
       "     index     ratio       omi   omi_abs      pval  perf_perm_opto  \\\n",
       "0       90  1.010264  0.000511  0.000511  0.736354        0.318660   \n",
       "1        6  1.017330 -0.001153  0.001153  0.758532        0.107263   \n",
       "2      100  0.990621 -0.002230  0.002230  0.529051        0.119184   \n",
       "3       91  0.990568  0.003123  0.003123  0.736354        0.589867   \n",
       "4       96  1.008002  0.003345  0.003345  0.941653        0.149435   \n",
       "..     ...       ...       ...       ...       ...             ...   \n",
       "117     13  1.034395 -0.226862  0.226862  0.000267        0.100865   \n",
       "118     17  0.971720 -0.310236  0.310236  0.736354        0.165218   \n",
       "119     14  1.059592 -0.346327  0.346327  0.017029        0.160047   \n",
       "120     20  1.084293 -0.448730  0.448730  0.000267        0.060434   \n",
       "121     21  1.133897 -0.663709  0.663709  0.000267        0.029848   \n",
       "\n",
       "     perf_full_model  effect_shuffle signif05 group  \n",
       "0           0.355094        0.036434       No   low  \n",
       "1           0.177524        0.070261       No   low  \n",
       "2           0.167708        0.048524       No   low  \n",
       "3           0.623412        0.033545       No   low  \n",
       "4           0.176421        0.026986       No   low  \n",
       "..               ...             ...      ...   ...  \n",
       "117         0.339889        0.239024      Yes  high  \n",
       "118         0.314339        0.149121       No  high  \n",
       "119         0.289908        0.129861      Yes  high  \n",
       "120         0.374399        0.313965      Yes  high  \n",
       "121         0.490220        0.460372      Yes  high  \n",
       "\n",
       "[122 rows x 10 columns]"
      ]
     },
     "execution_count": 60,
     "metadata": {},
     "output_type": "execute_result"
    }
   ],
   "source": [
    "df_mod_split"
   ]
  },
  {
   "cell_type": "code",
   "execution_count": 61,
   "metadata": {},
   "outputs": [
    {
     "name": "stdout",
     "output_type": "stream",
     "text": [
      "p-value annotation legend:\n",
      "      ns: p <= 1.00e+00\n",
      "       *: 1.00e-02 < p <= 5.00e-02\n",
      "      **: 1.00e-03 < p <= 1.00e-02\n",
      "     ***: 1.00e-04 < p <= 1.00e-03\n",
      "    ****: p <= 1.00e-04\n",
      "\n",
      "No vs. Yes: Mann-Whitney-Wilcoxon test two-sided, P_val:4.353e-05 U_stat=1.840e+02\n"
     ]
    },
    {
     "data": {
      "image/png": "[encoded data removed]",
      "text/plain": [
       "<Figure size 180x240 with 1 Axes>"
      ]
     },
     "metadata": {},
     "output_type": "display_data"
    }
   ],
   "source": [
    "yticks = [1, 1.1, 1.2]\n",
    "ylim=[.93, 1.2]\n",
    "\n",
    "with plt.style.context(\"matplotlib_config.txt\"):\n",
    "    mosaic = \"\"\"\n",
    "    a\n",
    "    \"\"\"\n",
    "    fig, ax_dict = plt.subplot_mosaic(\n",
    "        mosaic,\n",
    "        figsize=(.9,1.2),\n",
    "        dpi=200,\n",
    "        constrained_layout=True,\n",
    "    )\n",
    "\n",
    "    txt_kwargs = dict(\n",
    "        color=\"black\", fontsize=\"larger\"\n",
    "    )\n",
    "    \n",
    "    ax = ax_dict['a']\n",
    "\n",
    "    sns.boxplot(data=df_mod_split,\n",
    "               x='signif05',\n",
    "               y='ratio',\n",
    "               ax=ax,\n",
    "               width=.5,\n",
    "               palette='Blues',\n",
    "               fliersize=2,\n",
    "               flierprops={\"marker\": \".\"},\n",
    "               )\n",
    "    ax.set_xticklabels(['No', 'Yes'])\n",
    "    ax.set_yscale('log', basey=2)\n",
    "    ax.set_yticks(yticks)\n",
    "    ax.set_yticklabels(np.round(np.log2(yticks),1))\n",
    "\n",
    "    ax.set_xlabel('CT FB modulation')\n",
    "    ax.set_ylabel('$\\log_2~\\dfrac{\\%~correct_{~Supp.}}{\\%~correct_{~Ctrl.}}$', loc='center')\n",
    "    sns.despine(trim=False, offset=5)\n",
    "\n",
    "    # Annotate significance\n",
    "    annotator = Annotator(ax, data=df_mod_split, pairs=[('No', 'Yes')], x=\"signif05\", y='ratio', order=None)\n",
    "    annotator.configure(test='Mann-Whitney', text_format='star', loc='outside', fontsize=6, line_width=.5)\n",
    "    annotator.apply_and_annotate()\n",
    "\n",
    "filename_plot = './plots/Fig5/ratios_split_by_modulation'\n",
    "fig.patch.set_facecolor('white')\n",
    "fig.savefig(filename_plot+'.svg', bbox_inches='tight', facecolor=fig.get_facecolor(), transparent=False)\n",
    "fig.savefig(filename_plot+'.png', bbox_inches='tight', facecolor=fig.get_facecolor(), transparent=False)"
   ]
  }
 ],
 "metadata": {
  "kernelspec": {
   "display_name": "Python 3",
   "language": "python",
   "name": "python3"
  },
  "language_info": {
   "codemirror_mode": {
    "name": "ipython",
    "version": 3
   },
   "file_extension": ".py",
   "mimetype": "text/x-python",
   "name": "python",
   "nbconvert_exporter": "python",
   "pygments_lexer": "ipython3",
   "version": "3.6.7"
  }
 },
 "nbformat": 4,
 "nbformat_minor": 2
}
